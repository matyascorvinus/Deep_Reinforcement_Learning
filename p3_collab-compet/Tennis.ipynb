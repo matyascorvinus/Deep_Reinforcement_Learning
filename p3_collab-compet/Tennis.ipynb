{
 "cells": [
  {
   "cell_type": "markdown",
   "metadata": {},
   "source": [
    "# Collaboration and Competition\n",
    "\n",
    "---\n",
    "\n",
    "In this notebook, you will learn how to use the Unity ML-Agents environment for the third project of the [Deep Reinforcement Learning Nanodegree](https://www.udacity.com/course/deep-reinforcement-learning-nanodegree--nd893) program.\n",
    "\n",
    "### 1. Start the Environment\n",
    "\n",
    "We begin by importing the necessary packages.  If the code cell below returns an error, please revisit the project instructions to double-check that you have installed [Unity ML-Agents](https://github.com/Unity-Technologies/ml-agents/blob/master/docs/Installation.md) and [NumPy](http://www.numpy.org/)."
   ]
  },
  {
   "cell_type": "code",
   "execution_count": 1,
   "metadata": {},
   "outputs": [],
   "source": [
    "from unityagents import UnityEnvironment\n",
    "import numpy as np"
   ]
  },
  {
   "cell_type": "markdown",
   "metadata": {},
   "source": [
    "Next, we will start the environment!  **_Before running the code cell below_**, change the `file_name` parameter to match the location of the Unity environment that you downloaded.\n",
    "\n",
    "- **Mac**: `\"path/to/Tennis.app\"`\n",
    "- **Windows** (x86): `\"path/to/Tennis_Windows_x86/Tennis.exe\"`\n",
    "- **Windows** (x86_64): `\"path/to/Tennis_Windows_x86_64/Tennis.exe\"`\n",
    "- **Linux** (x86): `\"path/to/Tennis_Linux/Tennis.x86\"`\n",
    "- **Linux** (x86_64): `\"path/to/Tennis_Linux/Tennis.x86_64\"`\n",
    "- **Linux** (x86, headless): `\"path/to/Tennis_Linux_NoVis/Tennis.x86\"`\n",
    "- **Linux** (x86_64, headless): `\"path/to/Tennis_Linux_NoVis/Tennis.x86_64\"`\n",
    "\n",
    "For instance, if you are using a Mac, then you downloaded `Tennis.app`.  If this file is in the same folder as the notebook, then the line below should appear as follows:\n",
    "```\n",
    "env = UnityEnvironment(file_name=\"Tennis.app\")\n",
    "```"
   ]
  },
  {
   "cell_type": "code",
   "execution_count": 2,
   "metadata": {},
   "outputs": [
    {
     "name": "stderr",
     "output_type": "stream",
     "text": [
      "INFO:unityagents:\n",
      "'Academy' started successfully!\n",
      "Unity Academy name: Academy\n",
      "        Number of Brains: 1\n",
      "        Number of External Brains : 1\n",
      "        Lesson number : 0\n",
      "        Reset Parameters :\n",
      "\t\t\n",
      "Unity brain name: TennisBrain\n",
      "        Number of Visual Observations (per agent): 0\n",
      "        Vector Observation space type: continuous\n",
      "        Vector Observation space size (per agent): 8\n",
      "        Number of stacked Vector Observation: 3\n",
      "        Vector Action space type: continuous\n",
      "        Vector Action space size (per agent): 2\n",
      "        Vector Action descriptions: , \n"
     ]
    }
   ],
   "source": [
    "env = UnityEnvironment(file_name=\"./Tennis_Windows_x86_64/Tennis.exe\")"
   ]
  },
  {
   "cell_type": "markdown",
   "metadata": {},
   "source": [
    "Environments contain **_brains_** which are responsible for deciding the actions of their associated agents. Here we check for the first brain available, and set it as the default brain we will be controlling from Python."
   ]
  },
  {
   "cell_type": "code",
   "execution_count": 3,
   "metadata": {},
   "outputs": [],
   "source": [
    "# get the default brain\n",
    "brain_name = env.brain_names[0]\n",
    "brain = env.brains[brain_name]"
   ]
  },
  {
   "cell_type": "markdown",
   "metadata": {},
   "source": [
    "### 2. Examine the State and Action Spaces\n",
    "\n",
    "In this environment, two agents control rackets to bounce a ball over a net. If an agent hits the ball over the net, it receives a reward of +0.1.  If an agent lets a ball hit the ground or hits the ball out of bounds, it receives a reward of -0.01.  Thus, the goal of each agent is to keep the ball in play.\n",
    "\n",
    "The observation space consists of 8 variables corresponding to the position and velocity of the ball and racket. Two continuous actions are available, corresponding to movement toward (or away from) the net, and jumping. \n",
    "\n",
    "Run the code cell below to print some information about the environment."
   ]
  },
  {
   "cell_type": "code",
   "execution_count": 4,
   "metadata": {},
   "outputs": [
    {
     "name": "stdout",
     "output_type": "stream",
     "text": [
      "Number of agents: 2\n",
      "Size of each action: 2\n",
      "[[ 0.          0.          0.          0.          0.          0.\n",
      "   0.          0.          0.          0.          0.          0.\n",
      "   0.          0.          0.          0.         -6.65278625 -1.5\n",
      "  -0.          0.          6.83172083  6.         -0.          0.        ]\n",
      " [ 0.          0.          0.          0.          0.          0.\n",
      "   0.          0.          0.          0.          0.          0.\n",
      "   0.          0.          0.          0.         -6.4669857  -1.5\n",
      "   0.          0.         -6.83172083  6.          0.          0.        ]]\n",
      "\n",
      "There are 2 agents. Each observes a state with length: 24\n",
      "The state for the first agent looks like: [ 0.          0.          0.          0.          0.          0.\n",
      "  0.          0.          0.          0.          0.          0.\n",
      "  0.          0.          0.          0.         -6.65278625 -1.5\n",
      " -0.          0.          6.83172083  6.         -0.          0.        ]\n",
      "This is the critic_size: 48\n"
     ]
    }
   ],
   "source": [
    "# reset the environment\n",
    "env_info = env.reset(train_mode=True)[brain_name]\n",
    "\n",
    "# number of agents \n",
    "num_agents = len(env_info.agents)\n",
    "print('Number of agents:', num_agents)\n",
    "\n",
    "# size of each action\n",
    "action_size = brain.vector_action_space_size\n",
    "print('Size of each action:', action_size)\n",
    "\n",
    "# examine the state space \n",
    "states = env_info.vector_observations\n",
    "print(states)\n",
    "state_size = states.shape[1]\n",
    "print('\\nThere are {} agents. Each observes a state with length: {}'.format(states.shape[0], state_size))\n",
    "print('The state for the first agent looks like:', states[0])\n",
    "critic_size = num_agents * state_size\n",
    "print('This is the critic_size: {}'. format(critic_size))"
   ]
  },
  {
   "cell_type": "markdown",
   "metadata": {},
   "source": [
    "### 3. Take Random Actions in the Environment\n",
    "\n",
    "In the next code cell, you will learn how to use the Python API to control the agents and receive feedback from the environment.\n",
    "\n",
    "Once this cell is executed, you will watch the agents' performance, if they select actions at random with each time step.  A window should pop up that allows you to observe the agents.\n",
    "\n",
    "Of course, as part of the project, you'll have to change the code so that the agents are able to use their experiences to gradually choose better actions when interacting with the environment!"
   ]
  },
  {
   "cell_type": "code",
   "execution_count": 5,
   "metadata": {},
   "outputs": [],
   "source": [
    "# for i in range(1, 6):                                      # play game for 5 episodes\n",
    "#     env_info = env.reset(train_mode=False)[brain_name]     # reset the environment    \n",
    "#     states = env_info.vector_observations                  # get the current state (for each agent)\n",
    "#     scores = np.zeros(num_agents)                          # initialize the score (for each agent)\n",
    "#     while True:\n",
    "#         actions = np.random.randn(num_agents, action_size) # select an action (for each agent)\n",
    "#         actions = np.clip(actions, -1, 1)                  # all actions between -1 and 1\n",
    "#         env_info = env.step(actions)[brain_name]           # send all actions to tne environment\n",
    "#         next_states = env_info.vector_observations         # get next state (for each agent)\n",
    "#         rewards = env_info.rewards                         # get reward (for each agent)\n",
    "#         dones = env_info.local_done                        # see if episode finished\n",
    "#         scores += env_info.rewards                         # update the score (for each agent)\n",
    "#         states = next_states                               # roll over states to next time step\n",
    "#         if np.any(dones):                                  # exit loop if episode finished\n",
    "#             break\n",
    "#     print('Score (max over agents) from episode {}: {}'.format(i, np.max(scores)))\n"
   ]
  },
  {
   "cell_type": "markdown",
   "metadata": {},
   "source": [
    "When finished, you can close the environment."
   ]
  },
  {
   "cell_type": "code",
   "execution_count": 6,
   "metadata": {},
   "outputs": [],
   "source": [
    "# env.close()"
   ]
  },
  {
   "cell_type": "markdown",
   "metadata": {},
   "source": [
    "### 4. It's Your Turn!\n",
    "\n",
    "Now it's your turn to train your own agent to solve the environment!  When training the environment, set `train_mode=True`, so that the line for resetting the environment looks like the following:\n",
    "```python\n",
    "env_info = env.reset(train_mode=True)[brain_name]\n",
    "```"
   ]
  },
  {
   "cell_type": "code",
   "execution_count": 7,
   "metadata": {},
   "outputs": [],
   "source": [
    "from collections import deque\n",
    "from itertools import count\n",
    "import torch\n",
    "import matplotlib.pyplot as plt\n",
    "%matplotlib inline\n",
    "import gym\n",
    "import random\n",
    "import torch\n",
    "import numpy as np"
   ]
  },
  {
   "cell_type": "code",
   "execution_count": 11,
   "metadata": {},
   "outputs": [],
   "source": [
    "from maddpg import MADDPG\n",
    "the_agents = MADDPG(state_size, action_size, 2, num_agents)\n",
    "checkpoint_actor = 'checkpoint_actor_cuda.pth'\n",
    "checkpoint_critic = 'checkpoint_critic_cuda.pth'\n",
    "def maddpg(n_episodes=5000, max_t=1000):\n",
    "    scores_deque = deque(maxlen=100)\n",
    "    scores_all = []\n",
    "    scores = []\n",
    "    max_score = -np.Inf\n",
    "    for i_episode in range(1, n_episodes+1):\n",
    "        env_info = env.reset(train_mode=True)[brain_name]        \n",
    "        states = np.reshape(env_info.vector_observations, (1, state_size * num_agents))  # get states and combine them\n",
    "\n",
    "        the_agents.reset()\n",
    "        scores = np.zeros(num_agents)\n",
    "        while True:\n",
    "            actions = the_agents.all_agents_act(states)\n",
    "            env_info = env.step(actions)[brain_name]                             # send all actions to the environment\n",
    "            \n",
    "            # get next state (for each agent)\n",
    "            next_states = np.reshape(env_info.vector_observations, (1, state_size * num_agents)) \n",
    "            rewards = env_info.rewards                                           # get reward (for each agent)\n",
    "            scores += np.max(rewards)                                            # update the score (for each agent)\n",
    "            dones = env_info.local_done                                          # see if episode finished\n",
    "            the_agents.step(states, actions, rewards, next_states, dones)\n",
    "            states = next_states\n",
    "            if np.any(dones):                                                     # exit loop if episode finished\n",
    "                break\n",
    "                \n",
    "        score_max = np.max(scores)            \n",
    "        scores_deque.append(score_max)\n",
    "        scores_all.append(score_max)\n",
    "        \n",
    "        print('\\rEpisode {}\\tAverage Score: {:.3f}\\tScore: {:.3f}'.format(i_episode, np.mean(scores_deque), score_max), end=\"\")                    \n",
    "        if i_episode % 100 == 0:\n",
    "            if np.mean(scores_deque) >= 0.5:\n",
    "                print('\\nEnvironment solved in {:d} episodes!\\tAverage Score: {:.3f}'.format(i_episode, np.mean(scores_deque)))\n",
    "                for agent in the_agents.agents:\n",
    "                    torch.save(agent.actor_local.state_dict(), checkpoint_actor)\n",
    "                    torch.save(agent.critic_local.state_dict(), checkpoint_critic)\n",
    "                break\n",
    "            else:\n",
    "                for agent_index, agent in enumerate(the_agents.agents):\n",
    "                    torch.save(agent.actor_local.state_dict(), 'checkpoint_actor_{}.pth'.format(agent_index))\n",
    "                    torch.save(agent.critic_local.state_dict(), 'checkpoint_critic_{}.pth'.format(agent_index))\n",
    "                print('\\rEpisode {}\\tAverage Score: {:.3f}'.format(i_episode, np.mean(scores_deque)))\n",
    "    return scores_all\n"
   ]
  },
  {
   "cell_type": "code",
   "execution_count": 12,
   "metadata": {},
   "outputs": [],
   "source": [
    "# # MADDPG function without using the MADDPG Manager class\n",
    "# from maddpg_agent import Agent\n",
    "# SOLVED_SCORE = 0.5\n",
    "# CONSEC_EPISODES = 100\n",
    "# PRINT_EVERY = 10\n",
    "# ADD_NOISE = True\n",
    "# def maddpg(n_episodes=2000, max_t=1000, train_mode=True):\n",
    "#     \"\"\"Multi-Agent Deep Deterministic Policy Gradient (MADDPG)\n",
    "    \n",
    "#     Params\n",
    "#     ======\n",
    "#         n_episodes (int)      : maximum number of training episodes\n",
    "#         max_t (int)           : maximum number of timesteps per episode\n",
    "#         train_mode (bool)     : if 'True' set environment to training mode\n",
    "\n",
    "#     \"\"\"\n",
    "#     scores_window = deque(maxlen=CONSEC_EPISODES)\n",
    "#     scores_all = []\n",
    "#     moving_average = []\n",
    "#     best_score = -np.inf\n",
    "#     best_episode = 0\n",
    "#     already_solved = False    \n",
    "\n",
    "#     for i_episode in range(1, n_episodes+1):\n",
    "#         env_info = env.reset(train_mode=train_mode)[brain_name]         # reset the environment\n",
    "#         states = np.reshape(env_info.vector_observations, (1,48)) # get states and combine them\n",
    "#         agent_0.reset()\n",
    "#         agent_1.reset()\n",
    "#         scores = np.zeros(num_agents)\n",
    "#         while True:\n",
    "#             actions = get_actions(states, ADD_NOISE)           # choose agent actions and combine them\n",
    "#             env_info = env.step(actions)[brain_name]           # send both agents' actions together to the environment\n",
    "#             next_states = np.reshape(env_info.vector_observations, (1, 48)) # combine the agent next states\n",
    "#             rewards = env_info.rewards                         # get reward\n",
    "#             done = env_info.local_done                         # see if episode finished\n",
    "#             agent_0.step(states, actions, rewards[0], next_states, done, 0) # agent 1 learns\n",
    "#             agent_1.step(states, actions, rewards[1], next_states, done, 1) # agent 2 learns\n",
    "#             scores += np.max(rewards)                          # update the score for each agent\n",
    "#             states = next_states                               # roll over states to next time step\n",
    "#             if np.any(done):                                   # exit loop if episode finished\n",
    "#                 break\n",
    "\n",
    "#         ep_best_score = np.max(scores)\n",
    "#         scores_window.append(ep_best_score)\n",
    "#         scores_all.append(ep_best_score)\n",
    "#         moving_average.append(np.mean(scores_window))\n",
    "\n",
    "#         # save best score                        \n",
    "#         if ep_best_score > best_score:\n",
    "#             best_score = ep_best_score\n",
    "#             best_episode = i_episode\n",
    "        \n",
    "#         # print results\n",
    "#         if i_episode % PRINT_EVERY == 0:\n",
    "#             print('Episodes {:0>4d}-{:0>4d}\\tMax Reward: {:.3f}\\tMoving Average: {:.3f}'.format(\n",
    "#                 i_episode-PRINT_EVERY, i_episode, np.max(scores_all[-PRINT_EVERY:]), moving_average[-1]))\n",
    "\n",
    "#         # determine if environment is solved and keep best performing models\n",
    "#         if moving_average[-1] >= SOLVED_SCORE:\n",
    "#             if not already_solved:\n",
    "#                 print('<-- Environment solved in {:d} episodes! \\\n",
    "#                 \\n<-- Moving Average: {:.3f} over past {:d} episodes'.format(\n",
    "#                     i_episode-CONSEC_EPISODES, moving_average[-1], CONSEC_EPISODES))\n",
    "#                 already_solved = True\n",
    "#                 # save weights\n",
    "#                 torch.save(agent_0.actor_local.state_dict(), 'models/checkpoint_actor_0.pth')\n",
    "#                 torch.save(agent_0.critic_local.state_dict(), 'models/checkpoint_critic_0.pth')\n",
    "#                 torch.save(agent_1.actor_local.state_dict(), 'models/checkpoint_actor_1.pth')\n",
    "#                 torch.save(agent_1.critic_local.state_dict(), 'models/checkpoint_critic_1.pth')\n",
    "#             elif ep_best_score >= best_score:\n",
    "#                 print('<-- Best episode so far!\\\n",
    "#                 \\nEpisode {:0>4d}\\tMax Reward: {:.3f}\\tMoving Average: {:.3f}'.format(\n",
    "#                 i_episode, ep_best_score, moving_average[-1]))\n",
    "#                 # save weights\n",
    "#                 torch.save(agent_0.actor_local.state_dict(), 'models/checkpoint_actor_0.pth')\n",
    "#                 torch.save(agent_0.critic_local.state_dict(), 'models/checkpoint_critic_0.pth')\n",
    "#                 torch.save(agent_1.actor_local.state_dict(), 'models/checkpoint_actor_1.pth')\n",
    "#                 torch.save(agent_1.critic_local.state_dict(), 'models/checkpoint_critic_1.pth')\n",
    "#             elif (i_episode-best_episode) >= 200:\n",
    "#                 # stop training if model stops converging\n",
    "#                 print('<-- Training stopped. Best score not matched or exceeded for 200 episodes')\n",
    "#                 break\n",
    "#             else:\n",
    "#                 continue\n",
    "            \n",
    "#     return scores_all, moving_average\n",
    "\n",
    "# def get_actions(states, add_noise):\n",
    "#     '''gets actions for each agent and then combines them into one array'''\n",
    "#     print(states)\n",
    "#     action_0 = agent_0.act(states, add_noise)    # agent 0 chooses an action\n",
    "#     action_1 = agent_1.act(states, add_noise)    # agent 1 chooses an action\n",
    "#     return np.concatenate((action_0, action_1), axis=0).flatten()\n",
    "# initialize agents\n",
    "# agent_0 = Agent(state_size, action_size, num_agents=1, random_seed=0)\n",
    "# agent_1 = Agent(state_size, action_size, num_agents=1, random_seed=0)"
   ]
  },
  {
   "cell_type": "code",
   "execution_count": 13,
   "metadata": {},
   "outputs": [
    {
     "name": "stdout",
     "output_type": "stream",
     "text": [
      "Episode 100\tAverage Score: 0.010\tScore: 0.000\n",
      "Episode 200\tAverage Score: 0.044\tScore: 0.000\n",
      "Episode 300\tAverage Score: 0.037\tScore: 0.100\n",
      "Episode 400\tAverage Score: 0.081\tScore: 0.100\n",
      "Episode 500\tAverage Score: 0.098\tScore: 0.200\n",
      "Episode 600\tAverage Score: 0.116\tScore: 0.100\n",
      "Episode 700\tAverage Score: 0.148\tScore: 0.100\n",
      "Episode 800\tAverage Score: 0.148\tScore: 0.200\n",
      "Episode 900\tAverage Score: 0.198\tScore: 0.200\n",
      "Episode 1000\tAverage Score: 0.208\tScore: 0.100\n",
      "Episode 1100\tAverage Score: 0.210\tScore: 0.300\n",
      "Episode 1200\tAverage Score: 0.143\tScore: 0.300\n",
      "Episode 1300\tAverage Score: 0.098\tScore: 0.100\n",
      "Episode 1400\tAverage Score: 0.101\tScore: 0.000\n",
      "Episode 1500\tAverage Score: 0.053\tScore: 0.200\n",
      "Episode 1600\tAverage Score: 0.256\tScore: 0.000\n",
      "Episode 1700\tAverage Score: 0.186\tScore: 0.200\n",
      "Episode 1800\tAverage Score: 0.480\tScore: 3.400\n",
      "Episode 1900\tAverage Score: 0.496\tScore: 0.300\n",
      "Episode 2000\tAverage Score: 0.392\tScore: 0.100\n",
      "Episode 2100\tAverage Score: 0.309\tScore: 0.900\n",
      "Episode 2200\tAverage Score: 0.461\tScore: 0.000\n",
      "Episode 2300\tAverage Score: 0.451\tScore: 0.900\n",
      "Episode 2400\tAverage Score: 0.637\tScore: 0.700\n",
      "Environment solved in 2400 episodes!\tAverage Score: 0.637\n"
     ]
    },
    {
     "data": {
      "image/png": "[encoded data removed]",
      "text/plain": [
       "<Figure size 432x288 with 1 Axes>"
      ]
     },
     "metadata": {
      "needs_background": "light"
     },
     "output_type": "display_data"
    }
   ],
   "source": [
    "scores = maddpg()\n",
    "        \n",
    "fig = plt.figure()\n",
    "ax = fig.add_subplot(111)\n",
    "plt.plot(np.arange(1, len(scores)+1), scores)\n",
    "plt.ylabel('Score')\n",
    "plt.xlabel('Episode #')\n",
    "plt.show()"
   ]
  },
  {
   "cell_type": "code",
   "execution_count": null,
   "metadata": {},
   "outputs": [],
   "source": [
    "from unityagents import UnityEnvironment\n",
    "\n",
    "from collections import deque\n",
    "from itertools import count\n",
    "import torch\n",
    "import matplotlib.pyplot as plt\n",
    "%matplotlib inline\n",
    "import gym\n",
    "import random\n",
    "import torch\n",
    "import numpy as np\n",
    "from maddpg_agent import Agent\n",
    "\n",
    "env = UnityEnvironment(file_name=\"./Tennis_Windows_x86_64/Tennis.exe\")"
   ]
  },
  {
   "cell_type": "code",
   "execution_count": 7,
   "metadata": {},
   "outputs": [
    {
     "name": "stdout",
     "output_type": "stream",
     "text": [
      "Score (max over agents) from episode 1: 2.600000038743019\n",
      "Score (max over agents) from episode 2: 2.7000000402331352\n",
      "Score (max over agents) from episode 3: 0.0\n",
      "Score (max over agents) from episode 4: 0.10000000149011612\n",
      "Score (max over agents) from episode 5: 2.2000000327825546\n"
     ]
    }
   ],
   "source": [
    "# get the default brain\n",
    "brain_name = env.brain_names[0]\n",
    "brain = env.brains[brain_name]\n",
    "# reset the environment\n",
    "env_info = env.reset(train_mode=True)[brain_name]\n",
    "\n",
    "# number of agents \n",
    "num_agents = len(env_info.agents)\n",
    "\n",
    "# size of each action\n",
    "action_size = brain.vector_action_space_size\n",
    "\n",
    "# examine the state space \n",
    "states = env_info.vector_observations\n",
    "\n",
    "state_size = states.shape[1]\n",
    "critic_size = num_agents * state_size\n",
    "\n",
    "agents = []\n",
    "for i in range(num_agents):\n",
    "    agent = Agent(state_size, action_size, 2, num_agents)\n",
    "    agents.append(agent)\n",
    "\n",
    "\n",
    "for agent_index, agent in enumerate(agents):\n",
    "    agent.actor_local.load_state_dict(torch.load('checkpoint_actor_{}.pth'.format(agent_index)))\n",
    "    agent.critic_local.load_state_dict(torch.load('checkpoint_critic_{}.pth'.format(agent_index)))\n",
    "    \n",
    "\n",
    "states = env_info.vector_observations                  # get the current state (for each agent)\n",
    "scores = np.zeros(num_agents)                          # initialize the score (for each agent)\n",
    "for i in range(1, 6):                                      # play game for 5 episodes\n",
    "    env_info = env.reset(train_mode=False)[brain_name]     # reset the environment    \n",
    "    states = np.reshape(env_info.vector_observations, (1, state_size * num_agents)) # get the current state (for each agent)\n",
    "    scores = np.zeros(num_agents)                          # initialize the score (for each agent)\n",
    "    while True:\n",
    "        action_0 = agents[0].act(states, add_noise=False)\n",
    "        action_1 = agents[1].act(states, add_noise=False)\n",
    "        actions = np.concatenate((action_0, action_1), axis=0).flatten()\n",
    "        env_info = env.step(actions)[brain_name]           # send all actions to tne environment\n",
    "        next_states = np.reshape(env_info.vector_observations, (1, state_size * num_agents)) # get next state (for each agent)\n",
    "        rewards = env_info.rewards                         # get reward (for each agent)\n",
    "        dones = env_info.local_done                        # see if episode finished\n",
    "        scores += env_info.rewards                         # update the score (for each agent)\n",
    "        states = next_states                               # roll over states to next time step\n",
    "        if np.any(dones):                                  # exit loop if episode finished\n",
    "            break\n",
    "    print('Score (max over agents) from episode {}: {}'.format(i, np.max(scores))) \n",
    "\n",
    "env.close()"
   ]
  }
 ],
 "metadata": {
  "kernelspec": {
   "display_name": "Python 3",
   "language": "python",
   "name": "python3"
  },
  "language_info": {
   "codemirror_mode": {
    "name": "ipython",
    "version": 3
   },
   "file_extension": ".py",
   "mimetype": "text/x-python",
   "name": "python",
   "nbconvert_exporter": "python",
   "pygments_lexer": "ipython3",
   "version": "3.8.3"
  }
 },
 "nbformat": 4,
 "nbformat_minor": 2
}
